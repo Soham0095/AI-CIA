{
 "cells": [
  {
   "cell_type": "code",
   "execution_count": 6,
   "id": "34a36613",
   "metadata": {},
   "outputs": [
    {
     "name": "stdout",
     "output_type": "stream",
     "text": [
      "Similarity Score: 4.0\n"
     ]
    }
   ],
   "source": [
    "import numpy as np\n",
    "\n",
    "def calculate_similarity(seq1, seq2, match_score=1, mismatch_score=-1, gap_penalty=-2):\n",
    "    len1, len2 = len(seq1), len(seq2)\n",
    "\n",
    "    # Create a matrix to store the scores for each position in the sequences\n",
    "    score_matrix = np.zeros((len1 + 1, len2 + 1))\n",
    "\n",
    "    # Initialize the first row and column with gap penalties\n",
    "    for i in range(len1 + 1):\n",
    "        score_matrix[i][0] = i * gap_penalty\n",
    "    for j in range(len2 + 1):\n",
    "        score_matrix[0][j] = j * gap_penalty\n",
    "\n",
    "    # Fill in the score matrix\n",
    "    for i in range(1, len1 + 1):\n",
    "        for j in range(1, len2 + 1):\n",
    "            if seq1[i - 1] == seq2[j - 1]:\n",
    "                match = score_matrix[i - 1][j - 1] + match_score\n",
    "            else:\n",
    "                match = score_matrix[i - 1][j - 1] + mismatch_score\n",
    "\n",
    "            delete = score_matrix[i - 1][j] + gap_penalty\n",
    "            insert = score_matrix[i][j - 1] + gap_penalty\n",
    "\n",
    "            score_matrix[i][j] = max(match, delete, insert)\n",
    "\n",
    "    # The final score is in the bottom-right cell of the matrix\n",
    "    similarity_score = score_matrix[len1][len2]\n",
    "    return similarity_score\n",
    "\n",
    "# Example usage\n",
    "sequence1 = \"AGTACG\"\n",
    "sequence2 = \"AGTACCG\"\n",
    "score = calculate_similarity(sequence1, sequence2)\n",
    "print(\"Similarity Score:\", score)"
   ]
  },
  {
   "cell_type": "code",
   "execution_count": null,
   "id": "8bc8c8fa",
   "metadata": {},
   "outputs": [],
   "source": []
  }
 ],
 "metadata": {
  "kernelspec": {
   "display_name": "Python 3 (ipykernel)",
   "language": "python",
   "name": "python3"
  },
  "language_info": {
   "codemirror_mode": {
    "name": "ipython",
    "version": 3
   },
   "file_extension": ".py",
   "mimetype": "text/x-python",
   "name": "python",
   "nbconvert_exporter": "python",
   "pygments_lexer": "ipython3",
   "version": "3.11.3"
  }
 },
 "nbformat": 4,
 "nbformat_minor": 5
}
